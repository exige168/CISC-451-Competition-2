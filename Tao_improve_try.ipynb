{
 "cells": [
  {
   "cell_type": "code",
   "execution_count": 56,
   "metadata": {},
   "outputs": [],
   "source": [
    "# import packages\n",
    "\n",
    "import numpy as np\n",
    "import pandas as pd\n",
    "from pandas import value_counts\n",
    "from pandas.api.types import is_numeric_dtype\n",
    "import matplotlib.pyplot as plt\n",
    "import seaborn as sns\n",
    "from sklearn.preprocessing import OneHotEncoder, LabelEncoder, StandardScaler, MinMaxScaler, Normalizer, RobustScaler\n",
    "from sklearn.experimental import enable_iterative_imputer\n",
    "from sklearn.impute import IterativeImputer\n",
    "from sklearn.tree import DecisionTreeClassifier\n",
    "from sklearn.model_selection import cross_val_score\n",
    "\n",
    "import warnings\n",
    "\n",
    "import category_encoders as ce \n",
    "\n",
    "from xgboost import XGBRegressor\n",
    "import random\n",
    "\n",
    "from sklearn.neighbors import KNeighborsRegressor\n",
    "from sklearn.ensemble import RandomForestRegressor\n",
    "from sklearn.svm import SVR\n",
    "from sklearn.linear_model import Lasso, Ridge, LogisticRegression, LinearRegression"
   ]
  },
  {
   "cell_type": "code",
   "execution_count": 57,
   "metadata": {},
   "outputs": [],
   "source": [
    "train = pd.read_csv('C2T2_Train.csv')\n",
    "test = pd.read_csv('C2T2_Test.csv')"
   ]
  },
  {
   "cell_type": "code",
   "execution_count": 58,
   "metadata": {},
   "outputs": [],
   "source": [
    "train['PageCategory'] = train['PageCategory'].astype('str')\n",
    "test['PageCategory'] = test['PageCategory'].astype('str')"
   ]
  },
  {
   "cell_type": "code",
   "execution_count": 59,
   "metadata": {},
   "outputs": [],
   "source": [
    "del train['ID']\n",
    "del test['ID']"
   ]
  },
  {
   "cell_type": "code",
   "execution_count": 60,
   "metadata": {},
   "outputs": [
    {
     "data": {
      "text/plain": [
       "['PageCC1Min', 'PageCC2Min', 'PageCC3Min', 'PageCC4Min', 'PostPromoted']"
      ]
     },
     "execution_count": 60,
     "metadata": {},
     "output_type": "execute_result"
    }
   ],
   "source": [
    "# find all columns with too many values belongs to one categoric class. (>99%)\n",
    "del_list = []\n",
    "for col in train.columns.tolist():\n",
    "    if train[col].value_counts(ascending = False).reset_index()[col][0]/len(train) > 0.99:\n",
    "        del_list +=[col]\n",
    "del_list"
   ]
  },
  {
   "cell_type": "code",
   "execution_count": 61,
   "metadata": {},
   "outputs": [],
   "source": [
    "train.drop(del_list, axis = 1, inplace = True)\n",
    "test.drop(del_list, axis = 1, inplace = True)"
   ]
  },
  {
   "cell_type": "code",
   "execution_count": 62,
   "metadata": {},
   "outputs": [],
   "source": [
    "#For each pairs of large correlations, delete one column.\n",
    "del_col = ['PageCC5Min','PageCC5Max', 'PageCC2Avg','PageCC3Avg','PageCC4Std','PageCC4Max','PageCC4Median','TotalComments_CC1','PageCC5Std','PageCC3Max','PageCC4Avg','PageCC1Std','PageCC1Median','PageCC2Max','PageCC3Std']\n",
    "train.drop(del_col, axis = 1, inplace = True)\n",
    "test.drop(del_col, axis = 1, inplace = True)"
   ]
  },
  {
   "cell_type": "code",
   "execution_count": 63,
   "metadata": {},
   "outputs": [],
   "source": [
    "train.drop(['PageCheckIns','PostLength'], axis = 1, inplace = True)\n",
    "test.drop(['PageCheckIns','PostLength'], axis = 1, inplace = True)"
   ]
  },
  {
   "cell_type": "code",
   "execution_count": 64,
   "metadata": {},
   "outputs": [],
   "source": [
    "# HashingEncoder for PageCategory. Similar as onehog encoding, hashing encoder has less dimension and some information loss.\n",
    "encoder=ce.HashingEncoder(cols='PageCategory',n_components=6)\n",
    "encoder.fit(train)\n",
    "train = encoder.transform(train)\n",
    "test = encoder.transform(test)"
   ]
  },
  {
   "cell_type": "code",
   "execution_count": 65,
   "metadata": {},
   "outputs": [],
   "source": [
    "# use min-max scaler and normalization for all columns\n",
    "target = 'CommentsNumber'\n",
    "col = train.columns\n",
    "col_transform = col[~col.isin([target])]\n",
    "scaler = RobustScaler()\n",
    "scaler.fit(train[col_transform])\n",
    "train[col_transform] = scaler.transform(train[col_transform])\n",
    "test[col_transform] = scaler.transform(test[col_transform])"
   ]
  },
  {
   "cell_type": "markdown",
   "metadata": {},
   "source": [
    "# normalizer make it worse\n",
    "norm = Normalizer()\n",
    "norm.fit(train[col_transform])\n",
    "train[col_transform] = norm.transform(train[col_transform])\n",
    "test[col_transform] = norm.transform(test[col_transform])"
   ]
  },
  {
   "cell_type": "code",
   "execution_count": 66,
   "metadata": {},
   "outputs": [
    {
     "name": "stdout",
     "output_type": "stream",
     "text": [
      "[3.53316627e+01 2.18873425e+01 2.81505894e+01 7.69721829e+04\n",
      " 2.53914295e+01]\n",
      "15416.588794054842\n"
     ]
    }
   ],
   "source": [
    "# baseline model\n",
    "base_data = pd.read_csv('C2T2_Train.csv')\n",
    "lm = LinearRegression()\n",
    "cross_score = cross_val_score(lm, base_data.iloc[:,:-1], base_data[target], cv=5, scoring = 'neg_root_mean_squared_error', n_jobs = -1)\n",
    "print(-1 * cross_score)\n",
    "print(-sum(cross_score)/5)"
   ]
  },
  {
   "cell_type": "code",
   "execution_count": 67,
   "metadata": {},
   "outputs": [
    {
     "name": "stdout",
     "output_type": "stream",
     "text": [
      "[35.41758393 22.35001525 28.30207199 24.85202193 25.91068178]\n",
      "27.366474977405336\n"
     ]
    }
   ],
   "source": [
    "lm = LinearRegression()\n",
    "cross_score = cross_val_score(lm, train.iloc[:,:-1], train[target], cv=5, scoring = 'neg_root_mean_squared_error', n_jobs = -1)\n",
    "print(-1 * cross_score)\n",
    "print(-sum(cross_score)/5)"
   ]
  },
  {
   "cell_type": "code",
   "execution_count": 68,
   "metadata": {},
   "outputs": [
    {
     "name": "stdout",
     "output_type": "stream",
     "text": [
      "[25.75819223 14.02145886 21.0514033  16.59485918 15.71809703]\n",
      "18.628802121688846\n"
     ]
    }
   ],
   "source": [
    "randf = RandomForestRegressor(random_state=0)\n",
    "cross_score = cross_val_score(randf, train.iloc[:,:-1], train[target], cv=5, scoring = 'neg_root_mean_squared_error', n_jobs = -1)\n",
    "print(-1 * cross_score)\n",
    "print(-sum(cross_score)/5)"
   ]
  },
  {
   "cell_type": "code",
   "execution_count": null,
   "metadata": {},
   "outputs": [],
   "source": []
  }
 ],
 "metadata": {
  "kernelspec": {
   "display_name": "Python 3",
   "language": "python",
   "name": "python3"
  },
  "language_info": {
   "codemirror_mode": {
    "name": "ipython",
    "version": 3
   },
   "file_extension": ".py",
   "mimetype": "text/x-python",
   "name": "python",
   "nbconvert_exporter": "python",
   "pygments_lexer": "ipython3",
   "version": "3.7.7"
  }
 },
 "nbformat": 4,
 "nbformat_minor": 4
}
